{
 "cells": [
  {
   "cell_type": "code",
   "execution_count": 3,
   "metadata": {},
   "outputs": [
    {
     "ename": "SyntaxError",
     "evalue": "invalid syntax (<ipython-input-3-222a2d1fe559>, line 48)",
     "output_type": "error",
     "traceback": [
      "\u001b[0;36m  File \u001b[0;32m\"<ipython-input-3-222a2d1fe559>\"\u001b[0;36m, line \u001b[0;32m48\u001b[0m\n\u001b[0;31m    P.<x> = PolynomialRing(ZmodN)\u001b[0m\n\u001b[0m      ^\u001b[0m\n\u001b[0;31mSyntaxError\u001b[0m\u001b[0;31m:\u001b[0m invalid syntax\n"
     ]
    }
   ],
   "source": [
    "def coppersmith_howgrave_univariate(pol, modulus, beta, mm, tt, XX):\n",
    "    dd = pol.degree()\n",
    "    nn = dd * mm + tt\n",
    "    polZ = pol.change_ring(ZZ)\n",
    "    x = polZ.parent().gen()\n",
    "    gg = []\n",
    "    for ii in range(mm):\n",
    "        for jj in range(dd):\n",
    "            gg.append((x * XX)**jj * modulus**(mm - ii) * polZ(x * XX)**ii)\n",
    "    for ii in range(tt):\n",
    "        gg.append((x * XX)**ii * polZ(x * XX)**mm)\n",
    "    BB = Matrix(ZZ, nn)\n",
    "    for ii in range(nn):\n",
    "        for jj in range(ii+1):\n",
    "            BB[ii, jj] = gg[ii][jj]  \n",
    "    BB = BB.LLL()    \n",
    "    new_pol = 0\n",
    "    for ii in range(nn):\n",
    "        new_pol += x**ii * BB[0, ii] / XX**ii\n",
    "    potential_roots = new_pol.roots()\n",
    "    roots = []\n",
    "    for root in potential_roots:\n",
    "        if root[0].is_integer():\n",
    "            result = polZ(ZZ(root[0]))\n",
    "            if gcd(modulus, result) >= modulus^beta:\n",
    "                roots.append(ZZ(root[0])) \n",
    "    return roots\n",
    "# Values given to us:\n",
    "e = 5\n",
    "N = 635639785294550960064974167624361207666857027349496222399821809684835646476465347364266592614026865907526896587322786961234117090129304822660533762971395530757249924099314494768779580867524175383693808340804948749340014613124994245369032438636991092470784029210931424242388461816999233069374566745759\n",
    "C = 1049333397458242743570128093125186013386128771379309983497341035301435915046021858649692375222043445333121667817405249805491887672068257393907258607651518477535493555230206361675428159506850509895093290606637753409928118786135887764869391749568551350865588330693773162925875240843176100574529292071819\n",
    "string = 'Pseudo: This door has RSA encryption with exponent 5 and the password is'\n",
    "ZmodN = Zmod(N)    \n",
    "K = ZZ.random_element(0, 2^128)\n",
    "ans=[]\n",
    "#generating the binary format of the string \n",
    "mcry = ''\n",
    "for x in string:\n",
    "    mcry += \"{:08b}\".format(ord(x))\n",
    "for size_x in range(0,9):\n",
    "    dum = '0'*((size_x+8)*8) + mcry[::-1]\n",
    "    dumlist = [int(x) for x in list(dum)]\n",
    "    m_ = ZZ(dumlist,2)\n",
    "    k_x =  \"{:0128b}\".format(K)[::-1]\n",
    "    for i in range(len(k_x)):\n",
    "        dumlist[i] = int(k_x[i])    \n",
    "    #Polynomial ring and preparing attributes for coppersmith function    \n",
    "    P.<x> = PolynomialRing(ZmodN) \n",
    "    pol = (m_ + x)^e - C\n",
    "    dd = pol.degree()\n",
    "    beta = 1                                \n",
    "    epsilon = 1/5 - ((size_x+8)*8)/1024                     \n",
    "    mm = ceil(beta**2 / (dd * epsilon))     \n",
    "    tt = floor(dd * mm * ((1/beta) - 1))    \n",
    "    XX = ceil(N**((beta**2/dd) - epsilon))  \n",
    "    # Coppersmith Hograve Univariate Call\n",
    "    roots = coppersmith_howgrave_univariate(pol, N, beta, mm, tt, XX)\n",
    "    if(len(roots)!=0):    \n",
    "        ans.extend(roots)\n",
    "#How to get the password\n",
    "print \"Password for level 6:\"\n",
    "b=''\n",
    "for lo in range(len(ans)):\n",
    "    a=ans[lo]\n",
    "    for i in range(0,10):\n",
    "        v=a%256\n",
    "        a=int(a/256)\n",
    "        b+=chr(v)\n",
    "    b=b[::-1]    \n",
    "    print b   "
   ]
  },
  {
   "cell_type": "code",
   "execution_count": null,
   "metadata": {},
   "outputs": [],
   "source": []
  }
 ],
 "metadata": {
  "kernelspec": {
   "display_name": "Python 3",
   "language": "python",
   "name": "python3"
  },
  "language_info": {
   "codemirror_mode": {
    "name": "ipython",
    "version": 3
   },
   "file_extension": ".py",
   "mimetype": "text/x-python",
   "name": "python",
   "nbconvert_exporter": "python",
   "pygments_lexer": "ipython3",
   "version": "3.8.5"
  }
 },
 "nbformat": 4,
 "nbformat_minor": 2
}
